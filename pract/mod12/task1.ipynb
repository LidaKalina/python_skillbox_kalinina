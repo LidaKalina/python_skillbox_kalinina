{
 "cells": [
  {
   "cell_type": "code",
   "execution_count": 85,
   "metadata": {},
   "outputs": [],
   "source": [
    "import sqlite3\n",
    "import re"
   ]
  },
  {
   "cell_type": "code",
   "execution_count": 86,
   "metadata": {},
   "outputs": [],
   "source": [
    "conn_netflix = sqlite3.connect('netflix.sqlite')\n",
    "cur_netflix = conn_netflix.cursor()\n",
    "cur_netflix.execute('SELECT title, \"cast\" FROM netflix_titles')\n",
    "data = cur_netflix.fetchall()\n",
    "conn_netflix.close()\n",
    "new_data = []\n",
    "uniq_actors = set()\n",
    "for line in data:\n",
    "    movie, cast_str = line\n",
    "    cast = re.split(r' ,|, |,', cast_str)\n",
    "    uniq_actors = uniq_actors.union(set(cast))\n",
    "    new_data.append((movie,cast))"
   ]
  },
  {
   "cell_type": "code",
   "execution_count": 87,
   "metadata": {},
   "outputs": [],
   "source": [
    "conn = sqlite3.connect('task1.sqlite')\n",
    "cur = conn.cursor()"
   ]
  },
  {
   "cell_type": "code",
   "execution_count": 88,
   "metadata": {},
   "outputs": [
    {
     "ename": "OperationalError",
     "evalue": "table actors already exists",
     "output_type": "error",
     "traceback": [
      "\u001b[1;31m---------------------------------------------------------------------------\u001b[0m",
      "\u001b[1;31mOperationalError\u001b[0m                          Traceback (most recent call last)",
      "Cell \u001b[1;32mIn[88], line 2\u001b[0m\n\u001b[0;32m      1\u001b[0m \u001b[38;5;28;01mwith\u001b[39;00m conn:\n\u001b[1;32m----> 2\u001b[0m     \u001b[43mcur\u001b[49m\u001b[38;5;241;43m.\u001b[39;49m\u001b[43mexecute\u001b[49m\u001b[43m(\u001b[49m\u001b[38;5;124;43m\"\"\"\u001b[39;49m\n\u001b[0;32m      3\u001b[0m \u001b[38;5;124;43m        CREATE TABLE actors (\u001b[39;49m\n\u001b[0;32m      4\u001b[0m \u001b[38;5;124;43m            id INT NOT NULL PRIMARY KEY,\u001b[39;49m\n\u001b[0;32m      5\u001b[0m \u001b[38;5;124;43m            name TEXT\u001b[39;49m\n\u001b[0;32m      6\u001b[0m \u001b[38;5;124;43m        );\u001b[39;49m\n\u001b[0;32m      7\u001b[0m \u001b[38;5;124;43m    \u001b[39;49m\u001b[38;5;124;43m\"\"\"\u001b[39;49m\u001b[43m)\u001b[49m\n\u001b[0;32m      9\u001b[0m     cur\u001b[38;5;241m.\u001b[39mexecute(\u001b[38;5;124m\"\"\"\u001b[39m\n\u001b[0;32m     10\u001b[0m \u001b[38;5;124m        CREATE TABLE movies (\u001b[39m\n\u001b[0;32m     11\u001b[0m \u001b[38;5;124m            id INT NOT NULL PRIMARY KEY,\u001b[39m\n\u001b[0;32m     12\u001b[0m \u001b[38;5;124m            name TEXT\u001b[39m\n\u001b[0;32m     13\u001b[0m \u001b[38;5;124m        );\u001b[39m\n\u001b[0;32m     14\u001b[0m \u001b[38;5;124m    \u001b[39m\u001b[38;5;124m\"\"\"\u001b[39m)\n\u001b[0;32m     16\u001b[0m     cur\u001b[38;5;241m.\u001b[39mexecute(\u001b[38;5;124m\"\"\"\u001b[39m\n\u001b[0;32m     17\u001b[0m \u001b[38;5;124m        CREATE TABLE actors_movies (\u001b[39m\n\u001b[0;32m     18\u001b[0m \u001b[38;5;124m            user_id INT,\u001b[39m\n\u001b[1;32m   (...)\u001b[0m\n\u001b[0;32m     23\u001b[0m \u001b[38;5;124m        );\u001b[39m\n\u001b[0;32m     24\u001b[0m \u001b[38;5;124m    \u001b[39m\u001b[38;5;124m\"\"\"\u001b[39m)\n",
      "\u001b[1;31mOperationalError\u001b[0m: table actors already exists"
     ]
    }
   ],
   "source": [
    "with conn:\n",
    "    cur.execute(\"\"\"\n",
    "        CREATE TABLE actors (\n",
    "            id INT NOT NULL PRIMARY KEY,\n",
    "            name TEXT\n",
    "        );\n",
    "    \"\"\")\n",
    "\n",
    "    cur.execute(\"\"\"\n",
    "        CREATE TABLE movies (\n",
    "            id INT NOT NULL PRIMARY KEY,\n",
    "            name TEXT\n",
    "        );\n",
    "    \"\"\")\n",
    "\n",
    "    cur.execute(\"\"\"\n",
    "        CREATE TABLE actors_movies (\n",
    "            user_id INT,\n",
    "            language_id INT,\n",
    "            PRIMARY KEY(user_id, language_id),\n",
    "            FOREIGN KEY(user_id) REFERENCES user(id),\n",
    "            FOREIGN KEY(language_id) REFERENCES language(id)\n",
    "        );\n",
    "    \"\"\")\n"
   ]
  },
  {
   "cell_type": "code",
   "execution_count": null,
   "metadata": {},
   "outputs": [
    {
     "ename": "IntegrityError",
     "evalue": "NOT NULL constraint failed: actors.id",
     "output_type": "error",
     "traceback": [
      "\u001b[1;31m---------------------------------------------------------------------------\u001b[0m",
      "\u001b[1;31mIntegrityError\u001b[0m                            Traceback (most recent call last)",
      "Cell \u001b[1;32mIn[44], line 3\u001b[0m\n\u001b[0;32m      1\u001b[0m \u001b[38;5;28;01mwith\u001b[39;00m conn:\n\u001b[0;32m      2\u001b[0m     \u001b[38;5;28;01mfor\u001b[39;00m actor \u001b[38;5;129;01min\u001b[39;00m uniq_actors:\n\u001b[1;32m----> 3\u001b[0m         \u001b[43mcur\u001b[49m\u001b[38;5;241;43m.\u001b[39;49m\u001b[43mexecute\u001b[49m\u001b[43m(\u001b[49m\u001b[38;5;124;43m'\u001b[39;49m\u001b[38;5;124;43mINSERT INTO actors VALUES (NULL, ?)\u001b[39;49m\u001b[38;5;124;43m'\u001b[39;49m\u001b[43m,\u001b[49m\u001b[43m \u001b[49m\u001b[43m(\u001b[49m\u001b[43mactor\u001b[49m\u001b[43m,\u001b[49m\u001b[43m)\u001b[49m\u001b[43m)\u001b[49m\n\u001b[0;32m      5\u001b[0m     \u001b[38;5;28;01mfor\u001b[39;00m line \u001b[38;5;129;01min\u001b[39;00m new_data:\n\u001b[0;32m      6\u001b[0m         movie, actors \u001b[38;5;241m=\u001b[39m line\n",
      "\u001b[1;31mIntegrityError\u001b[0m: NOT NULL constraint failed: actors.id"
     ]
    }
   ],
   "source": [
    "with conn:\n",
    "    for actor in uniq_actors:\n",
    "        cur.execute('INSERT INTO actors VALUES (?)', (actor))\n",
    "    \n",
    "    for line in new_data:\n",
    "        movie, actors = line\n",
    "        cur.execute('INSERT INTO movies VALUES (?, NULL)',(movie,))\n",
    "\n",
    "    for i in new_data:\n",
    "        movie, actors = i\n",
    "        cur.execute('SELECT id FROM movies WHERE title = ?', (movie,))\n",
    "        movie_id = cur.fetchone()\n",
    "        for actor in actors:\n",
    "            cur.execute('SELECT id FROM actors WHERE name = ?', (actor,))\n",
    "            actor_id = cur.fetchone()\n",
    "            cur.execute('INSERT INTO actors_movies (actor_id, movie_id VALUES (?, ?)', (actor_id[0], movie_id[0]))\n",
    "conn.close()"
   ]
  },
  {
   "cell_type": "code",
   "execution_count": null,
   "metadata": {},
   "outputs": [],
   "source": [
    "conn = sqlite3.connect('task1.sqlite')\n",
    "cur = conn.cursor()\n",
    "cur.execute('''\n",
    "    SELECT a1.name AS actor1_name, a2_name AS actor2_name, COUNT(*) AS movies_together\n",
    "    FROM actors_movies am1\n",
    "    JOIN actors_movies am2 ON am1.movie_id AND am1.actor_id < am2.actor_id\n",
    "    JOIN actors a1 ON am1.actor_id = a1.id\n",
    "    JOIN actors a2 ON am2.actor_id = a2.id\n",
    "    GROUP BY actor1_name, actor2_name\n",
    "    ORDER BY movies_together DESC\n",
    "    LIMIT 1\n",
    "''')"
   ]
  }
 ],
 "metadata": {
  "kernelspec": {
   "display_name": "Python 3",
   "language": "python",
   "name": "python3"
  },
  "language_info": {
   "codemirror_mode": {
    "name": "ipython",
    "version": 3
   },
   "file_extension": ".py",
   "mimetype": "text/x-python",
   "name": "python",
   "nbconvert_exporter": "python",
   "pygments_lexer": "ipython3",
   "version": "3.11.5"
  }
 },
 "nbformat": 4,
 "nbformat_minor": 2
}
